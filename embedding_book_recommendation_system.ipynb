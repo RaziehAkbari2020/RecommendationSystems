{
  "cells": [
    {
      "cell_type": "markdown",
      "metadata": {
        "id": "view-in-github",
        "colab_type": "text"
      },
      "source": [
        "<a href=\"https://colab.research.google.com/github/RaziehAkbari2020/RecommendationSystems/blob/main/embedding_book_recommendation_system.ipynb\" target=\"_parent\"><img src=\"https://colab.research.google.com/assets/colab-badge.svg\" alt=\"Open In Colab\"/></a>"
      ]
    },
    {
      "cell_type": "markdown",
      "metadata": {
        "_uuid": "435ee5c8009f5a5c3584b752d3e3eecbfd648c84",
        "id": "i9ECkc0pFb4B"
      },
      "source": [
        "# Book Recommendation System using Keras\n",
        "A recommendation system seeks to predict the rating or preference a user would give to an item given his old item ratings or preferences. Recommendation systems are used by pretty much every major company in order to enhance the quality of their services.  \n",
        "Content:  \n",
        "1. [Loading in data](#1)  \n",
        "2. [Creating dot product model](#2)\n",
        "3. [Creating Neural Network](#3)\n",
        "4. [Visualizing Embeddings](#4)\n",
        "5. [Making Recommendations](#5)"
      ]
    },
    {
      "cell_type": "code",
      "execution_count": null,
      "metadata": {
        "_uuid": "ce056ed9e92456b3b048e42fde7ae6166a6761ef",
        "id": "_pyn6iD4Fb4G"
      },
      "outputs": [],
      "source": [
        "import numpy as np\n",
        "import pandas as pd\n",
        "import matplotlib.pyplot as plt\n",
        "import os\n",
        "import warnings\n",
        "\n",
        "from keras.layers import Input, Embedding, Flatten, Dot, Dense\n",
        "from keras.models import Model\n",
        "\n",
        "warnings.filterwarnings('ignore')"
      ]
    },
    {
      "cell_type": "markdown",
      "metadata": {
        "_uuid": "62c1974a66aa6a0704ee5f54e6930231e77b5e04",
        "id": "f84A0pNeFb4H"
      },
      "source": [
        "<a id=\"1\"></a>\n",
        "## Loading in data"
      ]
    },
    {
      "cell_type": "code",
      "execution_count": null,
      "metadata": {
        "_uuid": "0a21061e30926621f214cdcfe5a3ec25d24d4014",
        "id": "UdnpLR2pFb4I"
      },
      "outputs": [],
      "source": [
        "dataset = pd.read_csv('/content/ratings.csv')"
      ]
    },
    {
      "cell_type": "code",
      "execution_count": null,
      "metadata": {
        "_uuid": "6f78b0074d669625bac9de84cbf9a294c3cdbee6",
        "colab": {
          "base_uri": "https://localhost:8080/",
          "height": 204
        },
        "id": "DNeGxgczFb4I",
        "outputId": "c3b425d9-8766-4bf5-91f3-9cce8f0658ba"
      },
      "outputs": [
        {
          "data": {
            "text/html": [
              "<div>\n",
              "<style scoped>\n",
              "    .dataframe tbody tr th:only-of-type {\n",
              "        vertical-align: middle;\n",
              "    }\n",
              "\n",
              "    .dataframe tbody tr th {\n",
              "        vertical-align: top;\n",
              "    }\n",
              "\n",
              "    .dataframe thead th {\n",
              "        text-align: right;\n",
              "    }\n",
              "</style>\n",
              "<table border=\"1\" class=\"dataframe\">\n",
              "  <thead>\n",
              "    <tr style=\"text-align: right;\">\n",
              "      <th></th>\n",
              "      <th>book_id</th>\n",
              "      <th>user_id</th>\n",
              "      <th>rating</th>\n",
              "    </tr>\n",
              "  </thead>\n",
              "  <tbody>\n",
              "    <tr>\n",
              "      <th>0</th>\n",
              "      <td>1</td>\n",
              "      <td>314</td>\n",
              "      <td>5</td>\n",
              "    </tr>\n",
              "    <tr>\n",
              "      <th>1</th>\n",
              "      <td>1</td>\n",
              "      <td>439</td>\n",
              "      <td>3</td>\n",
              "    </tr>\n",
              "    <tr>\n",
              "      <th>2</th>\n",
              "      <td>1</td>\n",
              "      <td>588</td>\n",
              "      <td>5</td>\n",
              "    </tr>\n",
              "    <tr>\n",
              "      <th>3</th>\n",
              "      <td>1</td>\n",
              "      <td>1169</td>\n",
              "      <td>4</td>\n",
              "    </tr>\n",
              "    <tr>\n",
              "      <th>4</th>\n",
              "      <td>1</td>\n",
              "      <td>1185</td>\n",
              "      <td>4</td>\n",
              "    </tr>\n",
              "  </tbody>\n",
              "</table>\n",
              "</div>"
            ],
            "text/plain": [
              "   book_id  user_id  rating\n",
              "0        1      314       5\n",
              "1        1      439       3\n",
              "2        1      588       5\n",
              "3        1     1169       4\n",
              "4        1     1185       4"
            ]
          },
          "execution_count": 3,
          "metadata": {
            "tags": []
          },
          "output_type": "execute_result"
        }
      ],
      "source": [
        "dataset.head()"
      ]
    },
    {
      "cell_type": "code",
      "execution_count": null,
      "metadata": {
        "_uuid": "97b38898f1a9b2bcde3846273772d720a45600f9",
        "colab": {
          "base_uri": "https://localhost:8080/"
        },
        "id": "tDdosZovFb4J",
        "outputId": "7983381e-6f91-4964-cae9-7665e2194271"
      },
      "outputs": [
        {
          "data": {
            "text/plain": [
              "(981756, 3)"
            ]
          },
          "execution_count": 4,
          "metadata": {
            "tags": []
          },
          "output_type": "execute_result"
        }
      ],
      "source": [
        "dataset.shape"
      ]
    },
    {
      "cell_type": "code",
      "execution_count": null,
      "metadata": {
        "_uuid": "48a5d449987d8e4b5f7a02d42969c270204d6852",
        "id": "zaagWdDDFb4K"
      },
      "outputs": [],
      "source": [
        "from sklearn.model_selection import train_test_split\n",
        "train, test = train_test_split(dataset, test_size=0.2, random_state=42)"
      ]
    },
    {
      "cell_type": "code",
      "execution_count": null,
      "metadata": {
        "_uuid": "ef8d409cf636b9efdc758e60c9cdc4b16b6d7b5f",
        "colab": {
          "base_uri": "https://localhost:8080/",
          "height": 204
        },
        "id": "FNoTiXpFFb4K",
        "outputId": "f398b2b3-4ef7-4ac4-ec5b-39be0d7f5acb"
      },
      "outputs": [
        {
          "data": {
            "text/html": [
              "<div>\n",
              "<style scoped>\n",
              "    .dataframe tbody tr th:only-of-type {\n",
              "        vertical-align: middle;\n",
              "    }\n",
              "\n",
              "    .dataframe tbody tr th {\n",
              "        vertical-align: top;\n",
              "    }\n",
              "\n",
              "    .dataframe thead th {\n",
              "        text-align: right;\n",
              "    }\n",
              "</style>\n",
              "<table border=\"1\" class=\"dataframe\">\n",
              "  <thead>\n",
              "    <tr style=\"text-align: right;\">\n",
              "      <th></th>\n",
              "      <th>book_id</th>\n",
              "      <th>user_id</th>\n",
              "      <th>rating</th>\n",
              "    </tr>\n",
              "  </thead>\n",
              "  <tbody>\n",
              "    <tr>\n",
              "      <th>341848</th>\n",
              "      <td>3423</td>\n",
              "      <td>4608</td>\n",
              "      <td>2</td>\n",
              "    </tr>\n",
              "    <tr>\n",
              "      <th>964349</th>\n",
              "      <td>9811</td>\n",
              "      <td>36373</td>\n",
              "      <td>5</td>\n",
              "    </tr>\n",
              "    <tr>\n",
              "      <th>645459</th>\n",
              "      <td>6485</td>\n",
              "      <td>2957</td>\n",
              "      <td>4</td>\n",
              "    </tr>\n",
              "    <tr>\n",
              "      <th>74960</th>\n",
              "      <td>750</td>\n",
              "      <td>42400</td>\n",
              "      <td>3</td>\n",
              "    </tr>\n",
              "    <tr>\n",
              "      <th>358670</th>\n",
              "      <td>3591</td>\n",
              "      <td>36886</td>\n",
              "      <td>5</td>\n",
              "    </tr>\n",
              "  </tbody>\n",
              "</table>\n",
              "</div>"
            ],
            "text/plain": [
              "        book_id  user_id  rating\n",
              "341848     3423     4608       2\n",
              "964349     9811    36373       5\n",
              "645459     6485     2957       4\n",
              "74960       750    42400       3\n",
              "358670     3591    36886       5"
            ]
          },
          "execution_count": 6,
          "metadata": {
            "tags": []
          },
          "output_type": "execute_result"
        }
      ],
      "source": [
        "train.head()"
      ]
    },
    {
      "cell_type": "code",
      "execution_count": null,
      "metadata": {
        "_uuid": "f0ae2e1b14e908a90b4a5d2d87bfb7a880f40206",
        "colab": {
          "base_uri": "https://localhost:8080/",
          "height": 204
        },
        "id": "I6IbR8SAFb4L",
        "outputId": "f7b21057-c481-4840-8ec0-e3ea82b73f9d"
      },
      "outputs": [
        {
          "data": {
            "text/html": [
              "<div>\n",
              "<style scoped>\n",
              "    .dataframe tbody tr th:only-of-type {\n",
              "        vertical-align: middle;\n",
              "    }\n",
              "\n",
              "    .dataframe tbody tr th {\n",
              "        vertical-align: top;\n",
              "    }\n",
              "\n",
              "    .dataframe thead th {\n",
              "        text-align: right;\n",
              "    }\n",
              "</style>\n",
              "<table border=\"1\" class=\"dataframe\">\n",
              "  <thead>\n",
              "    <tr style=\"text-align: right;\">\n",
              "      <th></th>\n",
              "      <th>book_id</th>\n",
              "      <th>user_id</th>\n",
              "      <th>rating</th>\n",
              "    </tr>\n",
              "  </thead>\n",
              "  <tbody>\n",
              "    <tr>\n",
              "      <th>646451</th>\n",
              "      <td>6495</td>\n",
              "      <td>19643</td>\n",
              "      <td>5</td>\n",
              "    </tr>\n",
              "    <tr>\n",
              "      <th>614851</th>\n",
              "      <td>6175</td>\n",
              "      <td>8563</td>\n",
              "      <td>4</td>\n",
              "    </tr>\n",
              "    <tr>\n",
              "      <th>974393</th>\n",
              "      <td>9920</td>\n",
              "      <td>52110</td>\n",
              "      <td>3</td>\n",
              "    </tr>\n",
              "    <tr>\n",
              "      <th>21471</th>\n",
              "      <td>215</td>\n",
              "      <td>33864</td>\n",
              "      <td>5</td>\n",
              "    </tr>\n",
              "    <tr>\n",
              "      <th>272540</th>\n",
              "      <td>2728</td>\n",
              "      <td>16587</td>\n",
              "      <td>3</td>\n",
              "    </tr>\n",
              "  </tbody>\n",
              "</table>\n",
              "</div>"
            ],
            "text/plain": [
              "        book_id  user_id  rating\n",
              "646451     6495    19643       5\n",
              "614851     6175     8563       4\n",
              "974393     9920    52110       3\n",
              "21471       215    33864       5\n",
              "272540     2728    16587       3"
            ]
          },
          "execution_count": 7,
          "metadata": {
            "tags": []
          },
          "output_type": "execute_result"
        }
      ],
      "source": [
        "test.head()"
      ]
    },
    {
      "cell_type": "code",
      "execution_count": null,
      "metadata": {
        "_uuid": "b444a690fa741d0ac70fdeab6a4de6a934da69f6",
        "colab": {
          "base_uri": "https://localhost:8080/"
        },
        "id": "W9RIj0DrFb4M",
        "outputId": "e6d3314c-832f-43d8-b69d-89ea5dc9d834"
      },
      "outputs": [
        {
          "data": {
            "text/plain": [
              "53424"
            ]
          },
          "execution_count": 8,
          "metadata": {
            "tags": []
          },
          "output_type": "execute_result"
        }
      ],
      "source": [
        "n_users = len(dataset.user_id.unique())\n",
        "n_users"
      ]
    },
    {
      "cell_type": "code",
      "execution_count": null,
      "metadata": {
        "_uuid": "08e80181f65bbf76624eff230195c1fd33b0deef",
        "colab": {
          "base_uri": "https://localhost:8080/"
        },
        "id": "UkSzUHIsFb4M",
        "outputId": "b4a1048e-e738-4a65-da3b-540266d4f719"
      },
      "outputs": [
        {
          "data": {
            "text/plain": [
              "10000"
            ]
          },
          "execution_count": 9,
          "metadata": {
            "tags": []
          },
          "output_type": "execute_result"
        }
      ],
      "source": [
        "n_books = len(dataset.book_id.unique())\n",
        "n_books"
      ]
    },
    {
      "cell_type": "markdown",
      "metadata": {
        "_uuid": "ed729423d30ca35c47df3f724b67748a44d9c461",
        "id": "dHXhKrXpFb4N"
      },
      "source": [
        "<a id=\"2\"></a>\n",
        "## Creating dot product model\n",
        "Most recommendation systems are build using a simple dot product as shown below but newer ones are now implementing a neural network instead of the simple dot product."
      ]
    },
    {
      "cell_type": "code",
      "execution_count": null,
      "metadata": {
        "_uuid": "b750e2a4b34f171220332e8b5fb183116aefd939",
        "id": "Dr4tahnSFb4O"
      },
      "outputs": [],
      "source": [
        "# creating book embedding path\n",
        "book_input = Input(shape=[1], name=\"Book-Input\")\n",
        "book_embedding = Embedding(n_books+1, 5, name=\"Book-Embedding\")(book_input)\n",
        "book_vec = Flatten(name=\"Flatten-Books\")(book_embedding)\n",
        "\n",
        "# creating user embedding path\n",
        "user_input = Input(shape=[1], name=\"User-Input\")\n",
        "user_embedding = Embedding(n_users+1, 5, name=\"User-Embedding\")(user_input)\n",
        "user_vec = Flatten(name=\"Flatten-Users\")(user_embedding)\n",
        "\n",
        "# performing dot product and creating model\n",
        "prod = Dot(name=\"Dot-Product\", axes=1)([book_vec, user_vec])\n",
        "model = Model([user_input, book_input], prod)\n",
        "model.compile('adam', 'mean_squared_error')"
      ]
    },
    {
      "cell_type": "code",
      "execution_count": null,
      "metadata": {
        "_uuid": "fcaf5014dd777569353cd2ea335c358d374663e0",
        "colab": {
          "base_uri": "https://localhost:8080/",
          "height": 449
        },
        "id": "epDnwBXzFb4O",
        "outputId": "39997543-dbbd-48db-abfc-73946331f959",
        "scrolled": true
      },
      "outputs": [
        {
          "name": "stdout",
          "output_type": "stream",
          "text": [
            "Epoch 1/5\n",
            "24544/24544 [==============================] - 114s 5ms/step - loss: 15.4566\n",
            "Epoch 2/5\n",
            "24544/24544 [==============================] - 113s 5ms/step - loss: 7.3300\n",
            "Epoch 3/5\n",
            "24544/24544 [==============================] - 118s 5ms/step - loss: 2.3602\n",
            "Epoch 4/5\n",
            "24544/24544 [==============================] - 113s 5ms/step - loss: 1.3598\n",
            "Epoch 5/5\n",
            "24544/24544 [==============================] - 111s 5ms/step - loss: 1.0202\n"
          ]
        },
        {
          "data": {
            "image/png": "[encoded data removed]",
            "text/plain": [
              "<Figure size 432x288 with 1 Axes>"
            ]
          },
          "metadata": {
            "needs_background": "light",
            "tags": []
          },
          "output_type": "display_data"
        }
      ],
      "source": [
        "from keras.models import load_model\n",
        "\n",
        "if os.path.exists('regression_model.h5'):\n",
        "    model = load_model('regression_model.h5')\n",
        "else:\n",
        "    history = model.fit([train.user_id, train.book_id], train.rating, epochs=5, verbose=1)\n",
        "    model.save('regression_model.h5')\n",
        "    plt.plot(history.history['loss'])\n",
        "    plt.xlabel(\"Epochs\")\n",
        "    plt.ylabel(\"Training Error\")"
      ]
    },
    {
      "cell_type": "code",
      "execution_count": null,
      "metadata": {
        "_uuid": "dfc1a1d16e3bf10eda4caeaf9f14d0a7a63df847",
        "colab": {
          "base_uri": "https://localhost:8080/"
        },
        "id": "SyFBbiN8Fb4P",
        "outputId": "de2b78c2-b0e1-4839-f62d-9319816c0ab1"
      },
      "outputs": [
        {
          "name": "stdout",
          "output_type": "stream",
          "text": [
            "6136/6136 [==============================] - 8s 1ms/step - loss: 1.2475\n"
          ]
        },
        {
          "data": {
            "text/plain": [
              "1.247514247894287"
            ]
          },
          "execution_count": 12,
          "metadata": {
            "tags": []
          },
          "output_type": "execute_result"
        }
      ],
      "source": [
        "model.evaluate([test.user_id, test.book_id], test.rating)"
      ]
    },
    {
      "cell_type": "code",
      "execution_count": null,
      "metadata": {
        "_uuid": "af858eae15d9b72f7181cd15563e0ea860596206",
        "colab": {
          "base_uri": "https://localhost:8080/"
        },
        "id": "_lSAGshyFb4Q",
        "outputId": "f2b0c8cb-224d-4592-ff52-1a3b0ca5eb3d"
      },
      "outputs": [
        {
          "name": "stdout",
          "output_type": "stream",
          "text": [
            "[4.879058] 5\n",
            "[3.8002796] 4\n",
            "[3.3962836] 3\n",
            "[4.5500975] 5\n",
            "[3.1773386] 3\n",
            "[3.7013993] 3\n",
            "[3.761106] 3\n",
            "[4.7526226] 4\n",
            "[4.065939] 3\n",
            "[3.8760345] 5\n"
          ]
        },
        {
          "data": {
            "text/plain": [
              "[None, None, None, None, None, None, None, None, None, None]"
            ]
          },
          "execution_count": 13,
          "metadata": {
            "tags": []
          },
          "output_type": "execute_result"
        }
      ],
      "source": [
        "predictions = model.predict([test.user_id.head(10), test.book_id.head(10)])\n",
        "\n",
        "[print(predictions[i], test.rating.iloc[i]) for i in range(0,10)]"
      ]
    },
    {
      "cell_type": "markdown",
      "metadata": {
        "_uuid": "0ef0ee39621a1ae659307865f9b34d52b8706a71",
        "id": "k-La3gsLFb4Q"
      },
      "source": [
        "<a id=\"3\"></a>\n",
        "## Creating Neural Network\n",
        "Neural Networks proved there effectivness for almost every machine learning problem as of now and they also perform exceptionally well for recommendation systems."
      ]
    },
    {
      "cell_type": "code",
      "execution_count": null,
      "metadata": {
        "_uuid": "d8ecc4f30097e87f19c1f30de680acb5c93de055",
        "id": "K4s1S59VFb4R"
      },
      "outputs": [],
      "source": [
        "from keras.layers import Concatenate\n",
        "\n",
        "# creating book embedding path\n",
        "book_input = Input(shape=[1], name=\"Book-Input\")\n",
        "book_embedding = Embedding(n_books+1, 5, name=\"Book-Embedding\")(book_input)\n",
        "book_vec = Flatten(name=\"Flatten-Books\")(book_embedding)\n",
        "\n",
        "# creating user embedding path\n",
        "user_input = Input(shape=[1], name=\"User-Input\")\n",
        "user_embedding = Embedding(n_users+1, 5, name=\"User-Embedding\")(user_input)\n",
        "user_vec = Flatten(name=\"Flatten-Users\")(user_embedding)\n",
        "\n",
        "# concatenate features\n",
        "conc = Concatenate()([book_vec, user_vec])\n",
        "\n",
        "# add fully-connected-layers\n",
        "fc1 = Dense(128, activation='relu')(conc)\n",
        "fc2 = Dense(32, activation='relu')(fc1)\n",
        "out = Dense(1)(fc2)\n",
        "\n",
        "# Create model and compile it\n",
        "model2 = Model([user_input, book_input], out)\n",
        "model2.compile('adam', 'mean_squared_error')"
      ]
    },
    {
      "cell_type": "code",
      "execution_count": null,
      "metadata": {
        "_uuid": "37660cd66bff9dfdd190d4b1f4db9b24d62ae119",
        "colab": {
          "base_uri": "https://localhost:8080/",
          "height": 449
        },
        "id": "a-da7vITFb4S",
        "outputId": "6ae9fdb8-e290-47fc-beab-5549eb274b4e"
      },
      "outputs": [
        {
          "name": "stdout",
          "output_type": "stream",
          "text": [
            "Epoch 1/5\n",
            "24544/24544 [==============================] - 121s 5ms/step - loss: 1.0159\n",
            "Epoch 2/5\n",
            "24544/24544 [==============================] - 121s 5ms/step - loss: 0.6813\n",
            "Epoch 3/5\n",
            "24544/24544 [==============================] - 119s 5ms/step - loss: 0.6469\n",
            "Epoch 4/5\n",
            "24544/24544 [==============================] - 117s 5ms/step - loss: 0.6184\n",
            "Epoch 5/5\n",
            "24544/24544 [==============================] - 117s 5ms/step - loss: 0.6003\n"
          ]
        },
        {
          "data": {
            "image/png": "[encoded data removed]",
            "text/plain": [
              "<Figure size 432x288 with 1 Axes>"
            ]
          },
          "metadata": {
            "needs_background": "light",
            "tags": []
          },
          "output_type": "display_data"
        }
      ],
      "source": [
        "from keras.models import load_model\n",
        "\n",
        "if os.path.exists('regression_model2.h5'):\n",
        "    model2 = load_model('regression_model2.h5')\n",
        "else:\n",
        "    history = model2.fit([train.user_id, train.book_id], train.rating, epochs=5, verbose=1)\n",
        "    model2.save('regression_model2.h5')\n",
        "    plt.plot(history.history['loss'])\n",
        "    plt.xlabel(\"Epochs\")\n",
        "    plt.ylabel(\"Training Error\")"
      ]
    },
    {
      "cell_type": "code",
      "execution_count": null,
      "metadata": {
        "_uuid": "17e872c66ac70fdac84d6f072a4f11c1183ed1ac",
        "colab": {
          "base_uri": "https://localhost:8080/"
        },
        "id": "YMtA9F9VFb4T",
        "outputId": "1bf63d18-47f1-4030-9c29-4ad546bebd3f"
      },
      "outputs": [
        {
          "name": "stdout",
          "output_type": "stream",
          "text": [
            "6136/6136 [==============================] - 9s 1ms/step - loss: 0.7096\n"
          ]
        },
        {
          "data": {
            "text/plain": [
              "0.7095974087715149"
            ]
          },
          "execution_count": 16,
          "metadata": {
            "tags": []
          },
          "output_type": "execute_result"
        }
      ],
      "source": [
        "model2.evaluate([test.user_id, test.book_id], test.rating)"
      ]
    },
    {
      "cell_type": "code",
      "execution_count": null,
      "metadata": {
        "_uuid": "980f6dc0e760665ad60128bfe09cf024877ff7d4",
        "colab": {
          "base_uri": "https://localhost:8080/"
        },
        "id": "Cctq6rcVFb4T",
        "outputId": "fa617f94-2501-4781-baf3-0ba5c4c54bf3"
      },
      "outputs": [
        {
          "name": "stdout",
          "output_type": "stream",
          "text": [
            "[4.9847846] 5\n",
            "[3.794818] 4\n",
            "[3.616138] 3\n",
            "[4.2382607] 5\n",
            "[3.4084964] 3\n",
            "[3.8652577] 3\n",
            "[3.8712249] 3\n",
            "[4.984932] 4\n",
            "[4.1178136] 3\n",
            "[4.2207413] 5\n"
          ]
        },
        {
          "data": {
            "text/plain": [
              "[None, None, None, None, None, None, None, None, None, None]"
            ]
          },
          "execution_count": 17,
          "metadata": {
            "tags": []
          },
          "output_type": "execute_result"
        }
      ],
      "source": [
        "predictions = model2.predict([test.user_id.head(10), test.book_id.head(10)])\n",
        "\n",
        "[print(predictions[i], test.rating.iloc[i]) for i in range(0,10)]"
      ]
    },
    {
      "cell_type": "markdown",
      "metadata": {
        "_uuid": "0ea24e7e37c33a30f60a14c2a239968dbdbedaea",
        "id": "zjmK7OndFb4U"
      },
      "source": [
        "<a id=\"4\"></a>\n",
        "## Visualizing Embeddings\n",
        "Embeddings are weights that are learned to represent some specific variable like books and user in our case and therefore we can not only use them to get good results on our problem but also to extract inside about our data."
      ]
    },
    {
      "cell_type": "code",
      "execution_count": null,
      "metadata": {
        "_uuid": "9d6538b4aafe150a0384ae123d6b1c7e350480e5",
        "id": "L0MZuonGFb4U"
      },
      "outputs": [],
      "source": [
        "# Extract embeddings\n",
        "book_em = model.get_layer('Book-Embedding')\n",
        "book_em_weights = book_em.get_weights()[0]"
      ]
    },
    {
      "cell_type": "code",
      "execution_count": null,
      "metadata": {
        "_uuid": "dacfad39fd8ff618febf61be494c1c62a0698134",
        "colab": {
          "base_uri": "https://localhost:8080/"
        },
        "id": "o-cSAOyQFb4V",
        "outputId": "b000b7f5-f15b-4cc6-b094-0910718a7e6d"
      },
      "outputs": [
        {
          "data": {
            "text/plain": [
              "array([[ 0.02952043,  0.03178673,  0.01112623, -0.02141581,  0.03069324],\n",
              "       [ 1.1716566 ,  1.3636379 ,  1.1269232 , -1.3639686 ,  0.3503914 ],\n",
              "       [ 1.4171414 ,  1.2246282 ,  1.137908  , -1.2739036 , -0.11588144],\n",
              "       [ 0.75229746,  0.88873243,  0.69182456, -1.0746781 ,  1.198187  ],\n",
              "       [ 1.4923749 ,  1.0973113 ,  1.303081  , -1.3050342 , -0.5151149 ]],\n",
              "      dtype=float32)"
            ]
          },
          "execution_count": 19,
          "metadata": {
            "tags": []
          },
          "output_type": "execute_result"
        }
      ],
      "source": [
        "book_em_weights[:5]"
      ]
    },
    {
      "cell_type": "code",
      "execution_count": null,
      "metadata": {
        "_uuid": "24836560bf1894a888c4fe14a289918fcb660604",
        "colab": {
          "base_uri": "https://localhost:8080/",
          "height": 282
        },
        "id": "SzTqVhG7Fb4V",
        "outputId": "00470bdb-eb21-4fe9-dc50-2f513b32b236"
      },
      "outputs": [
        {
          "data": {
            "text/plain": [
              "<matplotlib.axes._subplots.AxesSubplot at 0x7f733d264f60>"
            ]
          },
          "execution_count": 20,
          "metadata": {
            "tags": []
          },
          "output_type": "execute_result"
        },
        {
          "data": {
            "image/png": "[encoded data removed]",
            "text/plain": [
              "<Figure size 432x288 with 1 Axes>"
            ]
          },
          "metadata": {
            "needs_background": "light",
            "tags": []
          },
          "output_type": "display_data"
        }
      ],
      "source": [
        "from sklearn.decomposition import PCA\n",
        "import seaborn as sns\n",
        "\n",
        "pca = PCA(n_components=2)\n",
        "pca_result = pca.fit_transform(book_em_weights)\n",
        "sns.scatterplot(x=pca_result[:,0], y=pca_result[:,1])"
      ]
    },
    {
      "cell_type": "markdown",
      "metadata": {
        "_uuid": "25e2df272f8d59e0643672c5a63f57828c4c4e4f",
        "id": "ubson6hOFb4X"
      },
      "source": [
        "<a id=\"5\"></a>\n",
        "## Making Recommendations"
      ]
    },
    {
      "cell_type": "code",
      "execution_count": null,
      "metadata": {
        "_uuid": "338247f69e3cac89fca7193fad14d01345f665fa",
        "colab": {
          "base_uri": "https://localhost:8080/"
        },
        "id": "_J0IXcS9Fb4Y",
        "outputId": "26084d40-e044-493c-eb4c-69718e17d6e1"
      },
      "outputs": [
        {
          "data": {
            "text/plain": [
              "array([1, 2, 3, 4, 5])"
            ]
          },
          "execution_count": 25,
          "metadata": {
            "tags": []
          },
          "output_type": "execute_result"
        }
      ],
      "source": [
        "# Creating dataset for making recommendations for the first user\n",
        "book_data = np.array(list(set(dataset.book_id)))\n",
        "book_data[:5]"
      ]
    },
    {
      "cell_type": "code",
      "execution_count": null,
      "metadata": {
        "_uuid": "0d36d052b953a1728fd380587b708a786c9f44ad",
        "colab": {
          "base_uri": "https://localhost:8080/"
        },
        "id": "80c57ug6Fb4Y",
        "outputId": "e9e8b094-c5b9-4ec4-9f7b-adfa7f836d93"
      },
      "outputs": [
        {
          "data": {
            "text/plain": [
              "array([1, 1, 1, 1, 1])"
            ]
          },
          "execution_count": 26,
          "metadata": {
            "tags": []
          },
          "output_type": "execute_result"
        }
      ],
      "source": [
        "user = np.array([1 for i in range(len(book_data))])\n",
        "user[:5]"
      ]
    },
    {
      "cell_type": "code",
      "execution_count": null,
      "metadata": {
        "_uuid": "2866ef2273e6b7e1af5d8d4fd5fac0ae23f19df8",
        "colab": {
          "base_uri": "https://localhost:8080/"
        },
        "id": "Suok-rAWFb4Y",
        "outputId": "6d77c25e-2688-4d98-9896-2ea4f1bc3552"
      },
      "outputs": [
        {
          "data": {
            "text/plain": [
              "array([8945, 7638, 7660, 5274, 8881])"
            ]
          },
          "execution_count": 27,
          "metadata": {
            "tags": []
          },
          "output_type": "execute_result"
        }
      ],
      "source": [
        "predictions = model.predict([user, book_data])\n",
        "\n",
        "predictions = np.array([a[0] for a in predictions])\n",
        "\n",
        "recommended_book_ids = (-predictions).argsort()[:5]\n",
        "\n",
        "recommended_book_ids"
      ]
    },
    {
      "cell_type": "code",
      "execution_count": null,
      "metadata": {
        "_uuid": "949de7b0d1da1e77d46161ea7c99632c6762a0cf",
        "colab": {
          "base_uri": "https://localhost:8080/"
        },
        "id": "IyeivlBMFb4Z",
        "outputId": "15e63bfc-5ae1-4b14-cc63-a8dd60858a4b"
      },
      "outputs": [
        {
          "data": {
            "text/plain": [
              "array([4.240443 , 4.1617727, 3.8892438, 3.78575  , 3.6717296],\n",
              "      dtype=float32)"
            ]
          },
          "execution_count": 28,
          "metadata": {
            "tags": []
          },
          "output_type": "execute_result"
        }
      ],
      "source": [
        "# print predicted scores\n",
        "predictions[recommended_book_ids]"
      ]
    },
    {
      "cell_type": "code",
      "execution_count": null,
      "metadata": {
        "_uuid": "f54324c06a3a0715790def55e1b4906da0a0aae9",
        "id": "zUx3EkSCFb4a"
      },
      "outputs": [],
      "source": [
        "books = pd.read_csv('../input/books.csv')\n",
        "books.head()"
      ]
    },
    {
      "cell_type": "code",
      "execution_count": null,
      "metadata": {
        "_uuid": "0467be8c8042a90ec905d0082d410ab4a89564af",
        "id": "cCXL9eNmFb4a"
      },
      "outputs": [],
      "source": [
        "books[books['id'].isin(recommended_book_ids)]"
      ]
    }
  ],
  "metadata": {
    "accelerator": "GPU",
    "colab": {
      "provenance": [],
      "toc_visible": true,
      "include_colab_link": true
    },
    "kernelspec": {
      "display_name": "Python 3 (ipykernel)",
      "language": "python",
      "name": "python3"
    },
    "language_info": {
      "codemirror_mode": {
        "name": "ipython",
        "version": 3
      },
      "file_extension": ".py",
      "mimetype": "text/x-python",
      "name": "python",
      "nbconvert_exporter": "python",
      "pygments_lexer": "ipython3",
      "version": "3.11.5"
    }
  },
  "nbformat": 4,
  "nbformat_minor": 0
}